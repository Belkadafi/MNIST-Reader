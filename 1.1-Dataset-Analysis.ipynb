{
 "cells": [
  {
   "cell_type": "code",
   "execution_count": 4,
   "metadata": {},
   "outputs": [
    {
     "name": "stdout",
     "output_type": "stream",
     "text": [
      "   label  1x1  1x2  1x3  1x4  1x5  1x6  1x7  1x8  1x9  ...  28x19  28x20  \\\n",
      "0      5    0    0    0    0    0    0    0    0    0  ...      0      0   \n",
      "1      0    0    0    0    0    0    0    0    0    0  ...      0      0   \n",
      "2      4    0    0    0    0    0    0    0    0    0  ...      0      0   \n",
      "3      1    0    0    0    0    0    0    0    0    0  ...      0      0   \n",
      "4      9    0    0    0    0    0    0    0    0    0  ...      0      0   \n",
      "\n",
      "   28x21  28x22  28x23  28x24  28x25  28x26  28x27  28x28  \n",
      "0      0      0      0      0      0      0      0      0  \n",
      "1      0      0      0      0      0      0      0      0  \n",
      "2      0      0      0      0      0      0      0      0  \n",
      "3      0      0      0      0      0      0      0      0  \n",
      "4      0      0      0      0      0      0      0      0  \n",
      "\n",
      "[5 rows x 785 columns]\n",
      "   label  1x1  1x2  1x3  1x4  1x5  1x6  1x7  1x8  1x9  ...  28x19  28x20  \\\n",
      "0      7    0    0    0    0    0    0    0    0    0  ...      0      0   \n",
      "1      2    0    0    0    0    0    0    0    0    0  ...      0      0   \n",
      "2      1    0    0    0    0    0    0    0    0    0  ...      0      0   \n",
      "3      0    0    0    0    0    0    0    0    0    0  ...      0      0   \n",
      "4      4    0    0    0    0    0    0    0    0    0  ...      0      0   \n",
      "\n",
      "   28x21  28x22  28x23  28x24  28x25  28x26  28x27  28x28  \n",
      "0      0      0      0      0      0      0      0      0  \n",
      "1      0      0      0      0      0      0      0      0  \n",
      "2      0      0      0      0      0      0      0      0  \n",
      "3      0      0      0      0      0      0      0      0  \n",
      "4      0      0      0      0      0      0      0      0  \n",
      "\n",
      "[5 rows x 785 columns]\n"
     ]
    }
   ],
   "source": [
    "# Run last notebook\n",
    "%run ./0.1-Load-Dataset.ipynb"
   ]
  },
  {
   "cell_type": "code",
   "execution_count": 5,
   "metadata": {},
   "outputs": [],
   "source": [
    "# Create format for table view in markdown\n",
    "count_format = \"| Digits | Train | Test |\\n\"\n",
    "count_format += \"| :----- | :-------: | --------: |\\n\"\n",
    "\n",
    "# Count the recurrence of each digit in the dataset\n",
    "train_count_digits = [len(df_train[df_train.label == i]) for i in range(10)]\n",
    "test_count_digits =  [len(df_test[df_test.label == i]) for i in range(10)]\n",
    "for (index, train, test) in zip(range(10), train_count_digits, test_count_digits) :\n",
    "    count_format += f'| {index} | {train} | {test} |\\n'"
   ]
  },
  {
   "cell_type": "code",
   "execution_count": 6,
   "metadata": {},
   "outputs": [
    {
     "name": "stdout",
     "output_type": "stream",
     "text": [
      "| Digits | Train | Test |\n",
      "| :----- | :-------: | --------: |\n",
      "| 0 | 5923 | 980 |\n",
      "| 1 | 6742 | 1135 |\n",
      "| 2 | 5958 | 1032 |\n",
      "| 3 | 6131 | 1010 |\n",
      "| 4 | 5842 | 982 |\n",
      "| 5 | 5421 | 892 |\n",
      "| 6 | 5918 | 958 |\n",
      "| 7 | 6265 | 1028 |\n",
      "| 8 | 5851 | 974 |\n",
      "| 9 | 5949 | 1009 |\n",
      "\n",
      "00000\n"
     ]
    },
    {
     "data": {
      "text/markdown": [
       "| Digits | Train | Test |\n",
       "| :----- | :-------: | --------: |\n",
       "| 0 | 5923 | 980 |\n",
       "| 1 | 6742 | 1135 |\n",
       "| 2 | 5958 | 1032 |\n",
       "| 3 | 6131 | 1010 |\n",
       "| 4 | 5842 | 982 |\n",
       "| 5 | 5421 | 892 |\n",
       "| 6 | 5918 | 958 |\n",
       "| 7 | 6265 | 1028 |\n",
       "| 8 | 5851 | 974 |\n",
       "| 9 | 5949 | 1009 |\n"
      ],
      "text/plain": [
       "<IPython.core.display.Markdown object>"
      ]
     },
     "metadata": {},
     "output_type": "display_data"
    }
   ],
   "source": [
    "display(Markdown(count_format))"
   ]
  }
 ],
 "metadata": {
  "kernelspec": {
   "display_name": "Python 3 (ipykernel)",
   "language": "python",
   "name": "python3"
  },
  "language_info": {
   "codemirror_mode": {
    "name": "ipython",
    "version": 3
   },
   "file_extension": ".py",
   "mimetype": "text/x-python",
   "name": "python",
   "nbconvert_exporter": "python",
   "pygments_lexer": "ipython3",
   "version": "3.10.9"
  },
  "orig_nbformat": 4,
  "vscode": {
   "interpreter": {
    "hash": "4ae06eaa9075dec009dde693b6a8f1b0f6d4a4c4cf5dea952492f8134ab7d79d"
   }
  }
 },
 "nbformat": 4,
 "nbformat_minor": 2
}
